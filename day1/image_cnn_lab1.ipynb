{
  "nbformat": 4,
  "nbformat_minor": 0,
  "metadata": {
    "colab": {
      "provenance": [],
      "machine_shape": "hm",
      "gpuType": "A100"
    },
    "kernelspec": {
      "name": "python3",
      "display_name": "Python 3"
    },
    "language_info": {
      "name": "python"
    },
    "accelerator": "GPU"
  },
  "cells": [
    {
      "cell_type": "markdown",
      "source": [
        "# Student Experiment: Cat vs. Dog Image Classification with CNN\n",
        "## Overview\n",
        "\n",
        "Objective: Students will learn image classification by building a Convolutional Neural Network (CNN) to distinguish between cats and dogs.\n",
        "\n",
        "Environment: Google Colab (GPU recommended).\n",
        "Libraries: Pillow, TensorFlow/Keras, NumPy, Matplotlib.\n"
      ],
      "metadata": {
        "id": "Z8ylcAJ3gods"
      }
    },
    {
      "cell_type": "markdown",
      "source": [
        "# step 0: Import Necessary Libraries"
      ],
      "metadata": {
        "id": "-vRyTW4bkPvB"
      }
    },
    {
      "cell_type": "code",
      "source": [
        "import tensorflow as tf\n",
        "import tensorflow_datasets as tfds\n",
        "from tensorflow.keras import layers, models\n",
        "import numpy as np\n",
        "import matplotlib.pyplot as plt\n",
        "from sklearn.metrics import classification_report, confusion_matrix\n",
        "import seaborn as sns\n",
        "import os\n",
        "\n",
        "# Set random seed for reproducibility\n",
        "tf.random.set_seed(42)\n",
        "np.random.seed(42)"
      ],
      "metadata": {
        "id": "9mtne6dzkVwa"
      },
      "execution_count": null,
      "outputs": []
    },
    {
      "cell_type": "markdown",
      "source": [
        "## Step 1: Generate and Visualize Synthetic Images\n",
        "\n",
        "Task: Generate 100 synthetic images (50 cats, 50 dogs) using Pillow, visualize a few examples, and save them for later use. This step introduces students to synthetic data creation."
      ],
      "metadata": {
        "id": "qiG_3wNCg0R_"
      }
    },
    {
      "cell_type": "markdown",
      "source": [
        "Student Tasks:\n",
        "\n",
        "    Run the code to generate and visualize images.\n",
        "    Check the generated images in dataset/synthetic/.\n",
        "    Save images to Google Drive and verify the Drive folder.\n",
        "    Discuss: How do synthetic cats and dogs differ from real ones? (Simple shapes vs. complex textures)"
      ],
      "metadata": {
        "id": "s8UIoSIfh-vi"
      }
    },
    {
      "cell_type": "code",
      "source": [
        "! pip install pillow"
      ],
      "metadata": {
        "colab": {
          "base_uri": "https://localhost:8080/"
        },
        "id": "S93x6jQthAFn",
        "outputId": "5f7ef423-4b11-4edb-ce90-82e941f11ecd"
      },
      "execution_count": null,
      "outputs": [
        {
          "output_type": "stream",
          "name": "stdout",
          "text": [
            "Requirement already satisfied: pillow in /usr/local/lib/python3.11/dist-packages (11.2.1)\n"
          ]
        }
      ]
    },
    {
      "cell_type": "code",
      "source": [
        "from PIL import Image, ImageDraw\n",
        "import numpy as np\n",
        "import os\n",
        "import random\n",
        "import matplotlib.pyplot as plt\n",
        "\n",
        "# Create directories\n",
        "os.makedirs('dataset/synthetic/cats', exist_ok=True)\n",
        "os.makedirs('dataset/synthetic/dogs', exist_ok=True)\n",
        "\n",
        "# Random background color\n",
        "def random_background():\n",
        "    return (random.randint(100, 255), random.randint(100, 255), random.randint(100, 255))\n",
        "\n",
        "# Generate cat image (circular head, triangular ears, oval eyes)\n",
        "def generate_cat_image(img_size=(224, 224), idx=0):\n",
        "    img = Image.new('RGB', img_size, color=random_background())\n",
        "    draw = ImageDraw.Draw(img)\n",
        "\n",
        "    # Circular head\n",
        "    head_size = random.randint(60, 80)\n",
        "    head_center = (img_size[0]//2, img_size[1]//2)\n",
        "    draw.ellipse(\n",
        "        [head_center[0]-head_size, head_center[1]-head_size,\n",
        "         head_center[0]+head_size, head_center[1]+head_size],\n",
        "        fill=(random.randint(50, 200), random.randint(50, 200), random.randint(50, 200))\n",
        "    )\n",
        "\n",
        "    # Triangular ears\n",
        "    ear_size = head_size // 2\n",
        "    draw.polygon(\n",
        "        [(head_center[0]-head_size, head_center[1]-head_size),\n",
        "         (head_center[0]-head_size-ear_size, head_center[1]-head_size-ear_size*2),\n",
        "         (head_center[0]-head_size+ear_size, head_center[1]-head_size-ear_size*2)],\n",
        "        fill=(150, 150, 150)\n",
        "    )\n",
        "    draw.polygon(\n",
        "        [(head_center[0]+head_size, head_center[1]-head_size),\n",
        "         (head_center[0]+head_size+ear_size, head_center[1]-head_size-ear_size*2),\n",
        "         (head_center[0]+head_size-ear_size, head_center[1]-head_size-ear_size*2)],\n",
        "        fill=(150, 150, 150)\n",
        "    )\n",
        "\n",
        "    # Oval eyes\n",
        "    eye_size = head_size // 4\n",
        "    draw.ellipse(\n",
        "        [head_center[0]-head_size//2-eye_size, head_center[1]-head_size//2-eye_size,\n",
        "         head_center[0]-head_size//2+eye_size, head_center[1]-head_size//2+eye_size],\n",
        "        fill=(0, 0, 0)\n",
        "    )\n",
        "    draw.ellipse(\n",
        "        [head_center[0]+head_size//2-eye_size, head_center[1]-head_size//2-eye_size,\n",
        "         head_center[0]+head_size//2+eye_size, head_center[1]-head_size//2+eye_size],\n",
        "        fill=(0, 0, 0)\n",
        "    )\n",
        "\n",
        "    img.save(f'dataset/synthetic/cats/cat_{idx}.png')\n",
        "    return img\n",
        "\n",
        "# Generate dog image (rectangular head, square nose, circular eyes)\n",
        "def generate_dog_image(img_size=(224, 224), idx=0):\n",
        "    img = Image.new('RGB', img_size, color=random_background())\n",
        "    draw = ImageDraw.Draw(img)\n",
        "\n",
        "    # Rectangular head\n",
        "    head_size = random.randint(60, 80)\n",
        "    head_center = (img_size[0]//2, img_size[1]//2)\n",
        "    draw.rectangle(\n",
        "        [head_center[0]-head_size, head_center[1]-head_size,\n",
        "         head_center[0]+head_size, head_center[1]+head_size],\n",
        "        fill=(random.randint(50, 200), random.randint(50, 200), random.randint(50, 200))\n",
        "    )\n",
        "\n",
        "    # Square nose\n",
        "    nose_size = head_size // 3\n",
        "    draw.rectangle(\n",
        "        [head_center[0]-nose_size, head_center[1]+head_size//2-nose_size,\n",
        "         head_center[0]+nose_size, head_center[1]+head_size//2+nose_size],\n",
        "        fill=(100, 100, 100)\n",
        "    )\n",
        "\n",
        "    # Circular eyes\n",
        "    eye_size = head_size // 4\n",
        "    draw.ellipse(\n",
        "        [head_center[0]-head_size//2-eye_size, head_center[1]-head_size//2-eye_size,\n",
        "         head_center[0]-head_size//2+eye_size, head_center[1]-head_size//2+eye_size],\n",
        "        fill=(0, 0, 0)\n",
        "    )\n",
        "    draw.ellipse(\n",
        "        [head_center[0]+head_size//2-eye_size, head_center[1]-head_size//2-eye_size,\n",
        "         head_center[0]+head_size//2+eye_size, head_center[1]-head_size//2+eye_size],\n",
        "        fill=(0, 0, 0)\n",
        "    )\n",
        "\n",
        "    img.save(f'dataset/synthetic/dogs/dog_{idx}.png')\n",
        "    return img\n",
        "\n",
        "# Generate 50 cats and 50 dogs\n",
        "print(\"Generating synthetic images...\")\n",
        "cat_images, dog_images = [], []\n",
        "for i in range(50):\n",
        "    cat_images.append(generate_cat_image(idx=i))\n",
        "    dog_images.append(generate_dog_image(idx=i))\n",
        "print(\"Generated 50 cat and 50 dog images!\")\n",
        "\n",
        "# Visualize a few examples\n",
        "plt.figure(figsize=(10, 5))\n",
        "plt.subplot(1, 2, 1)\n",
        "plt.imshow(cat_images[0])\n",
        "plt.title(\"Sample Synthetic Cat\")\n",
        "plt.axis('off')\n",
        "plt.subplot(1, 2, 2)\n",
        "plt.imshow(dog_images[0])\n",
        "plt.title(\"Sample Synthetic Dog\")\n",
        "plt.axis('off')\n",
        "plt.show()\n",
        "\n",
        "# Save to Google Drive\n",
        "from google.colab import drive\n",
        "drive.mount('/content/drive')\n",
        "!cp -r dataset/synthetic /content/drive/MyDrive/synthetic_dataset\n",
        "print(\"Synthetic images saved to Google Drive!\")"
      ],
      "metadata": {
        "colab": {
          "base_uri": "https://localhost:8080/",
          "height": 505
        },
        "id": "QJszSGKRgvmH",
        "outputId": "845f57c5-114f-44d9-9c96-b5cfea17afa7"
      },
      "execution_count": null,
      "outputs": [
        {
          "output_type": "stream",
          "name": "stdout",
          "text": [
            "Generating synthetic images...\n",
            "Generated 50 cat and 50 dog images!\n"
          ]
        },
        {
          "output_type": "display_data",
          "data": {
            "text/plain": [
              "<Figure size 1000x500 with 2 Axes>"
            ],
            "image/png": "[encoded data removed]"
          },
          "metadata": {}
        },
        {
          "output_type": "stream",
          "name": "stdout",
          "text": [
            "Drive already mounted at /content/drive; to attempt to forcibly remount, call drive.mount(\"/content/drive\", force_remount=True).\n",
            "Synthetic images saved to Google Drive!\n"
          ]
        }
      ]
    },
    {
      "cell_type": "markdown",
      "source": [
        "Question: how is the cat and dog picture looks like?"
      ],
      "metadata": {
        "id": "lU8TpNoBhKYL"
      }
    },
    {
      "cell_type": "markdown",
      "source": [
        "\n",
        "\n",
        "> Don't worry too much, you will learn how to generate cats and dogs that are definitely more realistic than this! This is just to get a feel for it.\n",
        "\n"
      ],
      "metadata": {
        "id": "f4ujJrslhUvN"
      }
    },
    {
      "cell_type": "markdown",
      "source": [
        "## Step 2: pre-processing"
      ],
      "metadata": {
        "id": "PGmX9PXbiSgS"
      }
    },
    {
      "cell_type": "markdown",
      "source": [
        "Step 2.1: Define Constants\n",
        "\n",
        "    Define constants for image size (IMG_SIZE = (224, 224)) and batch size (BATCH_SIZE = 32) to standardize input dimensions and training batch processing."
      ],
      "metadata": {
        "id": "F9ltYFgmmeEB"
      }
    },
    {
      "cell_type": "code",
      "source": [
        "# Define image size and batch size"
      ],
      "metadata": {
        "id": "J_OyrIx7nfpU"
      },
      "execution_count": null,
      "outputs": []
    },
    {
      "cell_type": "markdown",
      "source": [
        "Step 2.2: Load and Preprocess the Real Dataset\n",
        "\n",
        "    Write a function load_real_dataset() to load the cats_vs_dogs dataset from TensorFlow Datasets.\n",
        "    Split the dataset into 80% training and 20% testing using split=['train[:80%]', 'train[80%:]'].\n",
        "    Define a preprocessing function to resize images to IMG_SIZE and normalize pixel values to [0,1].\n",
        "    Apply preprocessing, batching, and prefetching to optimize data loading."
      ],
      "metadata": {
        "id": "SZo-cnYnmhy6"
      }
    },
    {
      "cell_type": "code",
      "source": [
        "# 1. Load and preprocess the real dataset (Cats vs Dogs from TensorFlow Datasets)\n",
        "def load_real_dataset():\n",
        "\n",
        "    # Load dataset with splits for train and test\n",
        "\n",
        "\n",
        "    # Preprocess function\n",
        "    # Normalize to [0,1]\n",
        "    # Apply preprocessing and batching\n",
        "\n",
        "# 2. Load and preprocess the synthetic dataset\n",
        "def load_synthetic_dataset():\n",
        "\n",
        "    # Load dataset with splits for train and test\n",
        "\n",
        "\n",
        "    # Preprocess function\n",
        "    # Normalize to [0,1]\n",
        "    # Apply preprocessing and batching"
      ],
      "metadata": {
        "id": "E-8f1g6WnjDj"
      },
      "execution_count": null,
      "outputs": []
    },
    {
      "cell_type": "markdown",
      "source": [
        "# step 3: cnn model"
      ],
      "metadata": {
        "id": "Jl5x90ibnTOh"
      }
    },
    {
      "cell_type": "code",
      "source": [
        "# 3. Define CNN model\n",
        "def create_cnn_model():\n",
        "    model = models.Sequential([\n",
        "        layers.Conv2D(32, (3, 3), activation='relu', input_shape=(224, 224, 3)),\n",
        "        layers.MaxPooling2D((2, 2)),\n",
        "        layers.Conv2D(64, (3, 3), activation='relu'),\n",
        "        layers.MaxPooling2D((2, 2)),\n",
        "        layers.Conv2D(128, (3, 3), activation='relu'),\n",
        "        layers.MaxPooling2D((2, 2)),\n",
        "        layers.Flatten(),\n",
        "        layers.Dense(128, activation='relu'),\n",
        "        layers.Dropout(0.5),\n",
        "        layers.Dense(1, activation='sigmoid')  # Binary classification\n",
        "    ])\n",
        "    model.compile(optimizer='adam', loss='binary_crossentropy', metrics=['accuracy'])\n",
        "    return model"
      ],
      "metadata": {
        "id": "K0R_9rptn7CC"
      },
      "execution_count": null,
      "outputs": []
    },
    {
      "cell_type": "markdown",
      "source": [
        "# step 4: Train and evaluate model with epoches 10"
      ],
      "metadata": {
        "id": "jFx3Sb_Jn-ef"
      }
    },
    {
      "cell_type": "code",
      "source": [
        "# 4. Train and evaluate model\n",
        "def train_and_evaluate(model, train_data, val_data, dataset_name, epochs=10):\n",
        "\n",
        "    # Evaluate on validation set\n",
        "\n",
        "    # Plot training history\n",
        "\n",
        "\n",
        "    return history, val_accuracy"
      ],
      "metadata": {
        "id": "deAqmt98oF1j"
      },
      "execution_count": null,
      "outputs": []
    },
    {
      "cell_type": "markdown",
      "source": [
        "step 5:"
      ],
      "metadata": {
        "id": "5PPKEo76oPtX"
      }
    },
    {
      "cell_type": "code",
      "source": [
        "# 5. Main execution\n",
        "if __name__ == \"__main__\":\n",
        "    # Load datasets\n",
        "\n",
        "\n",
        "    # Create and train model on real dataset\n",
        "\n",
        "    # Create and train model on synthetic dataset\n",
        "\n",
        "    # Compare performance\n",
        "\n",
        "    # Visualize comparison using a bar chart\n",
        "\n",
        "\n",
        "    # Save models to Google Drive, optional\n"
      ],
      "metadata": {
        "id": "5kyTpODaoUs9"
      },
      "execution_count": null,
      "outputs": []
    },
    {
      "cell_type": "markdown",
      "source": [
        "Question: how is the results? what's the difference from real and synthetic dataset?"
      ],
      "metadata": {
        "id": "mP-K8jOOof04"
      }
    }
  ]
}
