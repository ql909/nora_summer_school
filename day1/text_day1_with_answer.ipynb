{
  "nbformat": 4,
  "nbformat_minor": 0,
  "metadata": {
    "colab": {
      "provenance": [],
      "machine_shape": "hm",
      "gpuType": "L4"
    },
    "kernelspec": {
      "name": "python3",
      "display_name": "Python 3"
    },
    "language_info": {
      "name": "python"
    },
    "accelerator": "GPU"
  },
  "cells": [
    {
      "cell_type": "markdown",
      "source": [
        "# Machine Learning Task: Text Classification with fastText and TextCNN"
      ],
      "metadata": {
        "id": "e5quXDH21RX-"
      }
    },
    {
      "cell_type": "markdown",
      "source": [
        "Objective: Perform sentiment analysis on the IMDb movie review dataset using fastText and TextCNN models. Preprocess the text data, train both models, evaluate their performance (accuracy, F1-score), and compare their results.\n",
        "\n",
        "Prerequisites: Basic knowledge of Python, machine learning, and natural language processing (NLP). Familiarity with libraries like pandas, numpy, sklearn, tensorflow, and fasttext is helpful.\n",
        "\n",
        "Tools Needed:\n",
        "\n",
        "    Python 3.x\n",
        "    Libraries: pandas, numpy, scikit-learn, tensorflow, fasttext, nltk, datasets (Hugging Face)\n",
        "    Install dependencies using:"
      ],
      "metadata": {
        "id": "voGyWxBR1dJz"
      }
    },
    {
      "cell_type": "markdown",
      "source": [
        "\n",
        "\n",
        "```\n",
        "pip install pandas numpy scikit-learn tensorflow fasttext nltk datasets\n",
        "```\n",
        "\n"
      ],
      "metadata": {
        "id": "URYhZD7E1f0h"
      }
    },
    {
      "cell_type": "markdown",
      "source": [
        "Dataset: IMDb movie review dataset from Hugging Face’s datasets library, containing 50,000 reviews labeled as positive or negative."
      ],
      "metadata": {
        "id": "gsdMWEeZ1oUJ"
      }
    },
    {
      "cell_type": "markdown",
      "source": [
        "**Step 1: Set Up the Environment**\n",
        "\n",
        "Student Instruction: Install and import the required libraries to prepare your Python environment for text processing, model building, and evaluation."
      ],
      "metadata": {
        "id": "y6y6Bc3a1rjt"
      }
    },
    {
      "cell_type": "code",
      "source": [
        "! pip install fasttext"
      ],
      "metadata": {
        "colab": {
          "base_uri": "https://localhost:8080/"
        },
        "id": "LY11O2da1wk2",
        "outputId": "c48b11e0-374a-414d-a41f-d69ae545338c"
      },
      "execution_count": 2,
      "outputs": [
        {
          "output_type": "stream",
          "name": "stdout",
          "text": [
            "Collecting fasttext\n",
            "  Downloading fasttext-0.9.3.tar.gz (73 kB)\n",
            "\u001b[?25l     \u001b[90m━━━━━━━━━━━━━━━━━━━━━━━━━━━━━━━━━━━━━━━━\u001b[0m \u001b[32m0.0/73.4 kB\u001b[0m \u001b[31m?\u001b[0m eta \u001b[36m-:--:--\u001b[0m\r\u001b[2K     \u001b[90m━━━━━━━━━━━━━━━━━━━━━━━━━━━━━━━━━━━━━━━━\u001b[0m \u001b[32m73.4/73.4 kB\u001b[0m \u001b[31m9.2 MB/s\u001b[0m eta \u001b[36m0:00:00\u001b[0m\n",
            "\u001b[?25h  Installing build dependencies ... \u001b[?25l\u001b[?25hdone\n",
            "  Getting requirements to build wheel ... \u001b[?25l\u001b[?25hdone\n",
            "  Preparing metadata (pyproject.toml) ... \u001b[?25l\u001b[?25hdone\n",
            "Collecting pybind11>=2.2 (from fasttext)\n",
            "  Using cached pybind11-2.13.6-py3-none-any.whl.metadata (9.5 kB)\n",
            "Requirement already satisfied: setuptools>=0.7.0 in /usr/local/lib/python3.11/dist-packages (from fasttext) (75.2.0)\n",
            "Requirement already satisfied: numpy in /usr/local/lib/python3.11/dist-packages (from fasttext) (2.0.2)\n",
            "Using cached pybind11-2.13.6-py3-none-any.whl (243 kB)\n",
            "Building wheels for collected packages: fasttext\n",
            "  Building wheel for fasttext (pyproject.toml) ... \u001b[?25l\u001b[?25hdone\n",
            "  Created wheel for fasttext: filename=fasttext-0.9.3-cp311-cp311-linux_x86_64.whl size=4313502 sha256=c52cd03bbd858ebd2dfc29220b5ef99640efc5748dafaf6a30b28dafca5f4ef6\n",
            "  Stored in directory: /root/.cache/pip/wheels/65/4f/35/5057db0249224e9ab55a513fa6b79451473ceb7713017823c3\n",
            "Successfully built fasttext\n",
            "Installing collected packages: pybind11, fasttext\n",
            "Successfully installed fasttext-0.9.3 pybind11-2.13.6\n"
          ]
        }
      ]
    },
    {
      "cell_type": "code",
      "source": [
        "!pip install --upgrade datasets fsspec"
      ],
      "metadata": {
        "colab": {
          "base_uri": "https://localhost:8080/",
          "height": 1000
        },
        "id": "HxUhK4bq2Wpj",
        "outputId": "2b855d90-b33f-409b-cacb-c6473891ee3c"
      },
      "execution_count": 6,
      "outputs": [
        {
          "output_type": "stream",
          "name": "stdout",
          "text": [
            "Requirement already satisfied: datasets in /usr/local/lib/python3.11/dist-packages (2.14.4)\n",
            "Collecting datasets\n",
            "  Downloading datasets-3.6.0-py3-none-any.whl.metadata (19 kB)\n",
            "Requirement already satisfied: fsspec in /usr/local/lib/python3.11/dist-packages (2025.3.2)\n",
            "Collecting fsspec\n",
            "  Downloading fsspec-2025.5.0-py3-none-any.whl.metadata (11 kB)\n",
            "Requirement already satisfied: filelock in /usr/local/lib/python3.11/dist-packages (from datasets) (3.18.0)\n",
            "Requirement already satisfied: numpy>=1.17 in /usr/local/lib/python3.11/dist-packages (from datasets) (2.0.2)\n",
            "Requirement already satisfied: pyarrow>=15.0.0 in /usr/local/lib/python3.11/dist-packages (from datasets) (18.1.0)\n",
            "Requirement already satisfied: dill<0.3.9,>=0.3.0 in /usr/local/lib/python3.11/dist-packages (from datasets) (0.3.7)\n",
            "Requirement already satisfied: pandas in /usr/local/lib/python3.11/dist-packages (from datasets) (2.2.2)\n",
            "Requirement already satisfied: requests>=2.32.2 in /usr/local/lib/python3.11/dist-packages (from datasets) (2.32.3)\n",
            "Requirement already satisfied: tqdm>=4.66.3 in /usr/local/lib/python3.11/dist-packages (from datasets) (4.67.1)\n",
            "Requirement already satisfied: xxhash in /usr/local/lib/python3.11/dist-packages (from datasets) (3.5.0)\n",
            "Requirement already satisfied: multiprocess<0.70.17 in /usr/local/lib/python3.11/dist-packages (from datasets) (0.70.15)\n",
            "  Downloading fsspec-2025.3.0-py3-none-any.whl.metadata (11 kB)\n",
            "Requirement already satisfied: huggingface-hub>=0.24.0 in /usr/local/lib/python3.11/dist-packages (from datasets) (0.31.2)\n",
            "Requirement already satisfied: packaging in /usr/local/lib/python3.11/dist-packages (from datasets) (24.2)\n",
            "Requirement already satisfied: pyyaml>=5.1 in /usr/local/lib/python3.11/dist-packages (from datasets) (6.0.2)\n",
            "Requirement already satisfied: aiohttp!=4.0.0a0,!=4.0.0a1 in /usr/local/lib/python3.11/dist-packages (from fsspec[http]<=2025.3.0,>=2023.1.0->datasets) (3.11.15)\n",
            "Requirement already satisfied: typing-extensions>=3.7.4.3 in /usr/local/lib/python3.11/dist-packages (from huggingface-hub>=0.24.0->datasets) (4.13.2)\n",
            "Requirement already satisfied: charset-normalizer<4,>=2 in /usr/local/lib/python3.11/dist-packages (from requests>=2.32.2->datasets) (3.4.2)\n",
            "Requirement already satisfied: idna<4,>=2.5 in /usr/local/lib/python3.11/dist-packages (from requests>=2.32.2->datasets) (3.10)\n",
            "Requirement already satisfied: urllib3<3,>=1.21.1 in /usr/local/lib/python3.11/dist-packages (from requests>=2.32.2->datasets) (2.4.0)\n",
            "Requirement already satisfied: certifi>=2017.4.17 in /usr/local/lib/python3.11/dist-packages (from requests>=2.32.2->datasets) (2025.4.26)\n",
            "Requirement already satisfied: python-dateutil>=2.8.2 in /usr/local/lib/python3.11/dist-packages (from pandas->datasets) (2.9.0.post0)\n",
            "Requirement already satisfied: pytz>=2020.1 in /usr/local/lib/python3.11/dist-packages (from pandas->datasets) (2025.2)\n",
            "Requirement already satisfied: tzdata>=2022.7 in /usr/local/lib/python3.11/dist-packages (from pandas->datasets) (2025.2)\n",
            "Requirement already satisfied: aiohappyeyeballs>=2.3.0 in /usr/local/lib/python3.11/dist-packages (from aiohttp!=4.0.0a0,!=4.0.0a1->fsspec[http]<=2025.3.0,>=2023.1.0->datasets) (2.6.1)\n",
            "Requirement already satisfied: aiosignal>=1.1.2 in /usr/local/lib/python3.11/dist-packages (from aiohttp!=4.0.0a0,!=4.0.0a1->fsspec[http]<=2025.3.0,>=2023.1.0->datasets) (1.3.2)\n",
            "Requirement already satisfied: attrs>=17.3.0 in /usr/local/lib/python3.11/dist-packages (from aiohttp!=4.0.0a0,!=4.0.0a1->fsspec[http]<=2025.3.0,>=2023.1.0->datasets) (25.3.0)\n",
            "Requirement already satisfied: frozenlist>=1.1.1 in /usr/local/lib/python3.11/dist-packages (from aiohttp!=4.0.0a0,!=4.0.0a1->fsspec[http]<=2025.3.0,>=2023.1.0->datasets) (1.6.0)\n",
            "Requirement already satisfied: multidict<7.0,>=4.5 in /usr/local/lib/python3.11/dist-packages (from aiohttp!=4.0.0a0,!=4.0.0a1->fsspec[http]<=2025.3.0,>=2023.1.0->datasets) (6.4.3)\n",
            "Requirement already satisfied: propcache>=0.2.0 in /usr/local/lib/python3.11/dist-packages (from aiohttp!=4.0.0a0,!=4.0.0a1->fsspec[http]<=2025.3.0,>=2023.1.0->datasets) (0.3.1)\n",
            "Requirement already satisfied: yarl<2.0,>=1.17.0 in /usr/local/lib/python3.11/dist-packages (from aiohttp!=4.0.0a0,!=4.0.0a1->fsspec[http]<=2025.3.0,>=2023.1.0->datasets) (1.20.0)\n",
            "Requirement already satisfied: six>=1.5 in /usr/local/lib/python3.11/dist-packages (from python-dateutil>=2.8.2->pandas->datasets) (1.17.0)\n",
            "Downloading datasets-3.6.0-py3-none-any.whl (491 kB)\n",
            "\u001b[2K   \u001b[90m━━━━━━━━━━━━━━━━━━━━━━━━━━━━━━━━━━━━━━━━\u001b[0m \u001b[32m491.5/491.5 kB\u001b[0m \u001b[31m28.6 MB/s\u001b[0m eta \u001b[36m0:00:00\u001b[0m\n",
            "\u001b[?25hDownloading fsspec-2025.3.0-py3-none-any.whl (193 kB)\n",
            "\u001b[2K   \u001b[90m━━━━━━━━━━━━━━━━━━━━━━━━━━━━━━━━━━━━━━━━\u001b[0m \u001b[32m193.6/193.6 kB\u001b[0m \u001b[31m23.0 MB/s\u001b[0m eta \u001b[36m0:00:00\u001b[0m\n",
            "\u001b[?25hInstalling collected packages: fsspec, datasets\n",
            "  Attempting uninstall: fsspec\n",
            "    Found existing installation: fsspec 2025.3.2\n",
            "    Uninstalling fsspec-2025.3.2:\n",
            "      Successfully uninstalled fsspec-2025.3.2\n",
            "  Attempting uninstall: datasets\n",
            "    Found existing installation: datasets 2.14.4\n",
            "    Uninstalling datasets-2.14.4:\n",
            "      Successfully uninstalled datasets-2.14.4\n",
            "\u001b[31mERROR: pip's dependency resolver does not currently take into account all the packages that are installed. This behaviour is the source of the following dependency conflicts.\n",
            "gcsfs 2025.3.2 requires fsspec==2025.3.2, but you have fsspec 2025.3.0 which is incompatible.\n",
            "torch 2.6.0+cu124 requires nvidia-cublas-cu12==12.4.5.8; platform_system == \"Linux\" and platform_machine == \"x86_64\", but you have nvidia-cublas-cu12 12.5.3.2 which is incompatible.\n",
            "torch 2.6.0+cu124 requires nvidia-cuda-cupti-cu12==12.4.127; platform_system == \"Linux\" and platform_machine == \"x86_64\", but you have nvidia-cuda-cupti-cu12 12.5.82 which is incompatible.\n",
            "torch 2.6.0+cu124 requires nvidia-cuda-nvrtc-cu12==12.4.127; platform_system == \"Linux\" and platform_machine == \"x86_64\", but you have nvidia-cuda-nvrtc-cu12 12.5.82 which is incompatible.\n",
            "torch 2.6.0+cu124 requires nvidia-cuda-runtime-cu12==12.4.127; platform_system == \"Linux\" and platform_machine == \"x86_64\", but you have nvidia-cuda-runtime-cu12 12.5.82 which is incompatible.\n",
            "torch 2.6.0+cu124 requires nvidia-cudnn-cu12==9.1.0.70; platform_system == \"Linux\" and platform_machine == \"x86_64\", but you have nvidia-cudnn-cu12 9.3.0.75 which is incompatible.\n",
            "torch 2.6.0+cu124 requires nvidia-cufft-cu12==11.2.1.3; platform_system == \"Linux\" and platform_machine == \"x86_64\", but you have nvidia-cufft-cu12 11.2.3.61 which is incompatible.\n",
            "torch 2.6.0+cu124 requires nvidia-curand-cu12==10.3.5.147; platform_system == \"Linux\" and platform_machine == \"x86_64\", but you have nvidia-curand-cu12 10.3.6.82 which is incompatible.\n",
            "torch 2.6.0+cu124 requires nvidia-cusolver-cu12==11.6.1.9; platform_system == \"Linux\" and platform_machine == \"x86_64\", but you have nvidia-cusolver-cu12 11.6.3.83 which is incompatible.\n",
            "torch 2.6.0+cu124 requires nvidia-cusparse-cu12==12.3.1.170; platform_system == \"Linux\" and platform_machine == \"x86_64\", but you have nvidia-cusparse-cu12 12.5.1.3 which is incompatible.\n",
            "torch 2.6.0+cu124 requires nvidia-nvjitlink-cu12==12.4.127; platform_system == \"Linux\" and platform_machine == \"x86_64\", but you have nvidia-nvjitlink-cu12 12.5.82 which is incompatible.\u001b[0m\u001b[31m\n",
            "\u001b[0mSuccessfully installed datasets-3.6.0 fsspec-2025.3.0\n"
          ]
        },
        {
          "output_type": "display_data",
          "data": {
            "application/vnd.colab-display-data+json": {
              "pip_warning": {
                "packages": [
                  "datasets"
                ]
              },
              "id": "b3255447651e4bb4ae1ee9804fd610d8"
            }
          },
          "metadata": {}
        }
      ]
    },
    {
      "cell_type": "code",
      "source": [
        "!pip install numpy==1.26.4"
      ],
      "metadata": {
        "colab": {
          "base_uri": "https://localhost:8080/"
        },
        "id": "CJy9_rtk33tu",
        "outputId": "e4cc25c7-a9da-4f81-d8ef-1d7d95cc93f1"
      },
      "execution_count": 8,
      "outputs": [
        {
          "output_type": "stream",
          "name": "stdout",
          "text": [
            "Collecting numpy==1.26.4\n",
            "  Downloading numpy-1.26.4-cp311-cp311-manylinux_2_17_x86_64.manylinux2014_x86_64.whl.metadata (61 kB)\n",
            "\u001b[?25l     \u001b[90m━━━━━━━━━━━━━━━━━━━━━━━━━━━━━━━━━━━━━━━━\u001b[0m \u001b[32m0.0/61.0 kB\u001b[0m \u001b[31m?\u001b[0m eta \u001b[36m-:--:--\u001b[0m\r\u001b[2K     \u001b[90m━━━━━━━━━━━━━━━━━━━━━━━━━━━━━━━━━━━━━━━━\u001b[0m \u001b[32m61.0/61.0 kB\u001b[0m \u001b[31m7.6 MB/s\u001b[0m eta \u001b[36m0:00:00\u001b[0m\n",
            "\u001b[?25hDownloading numpy-1.26.4-cp311-cp311-manylinux_2_17_x86_64.manylinux2014_x86_64.whl (18.3 MB)\n",
            "\u001b[2K   \u001b[90m━━━━━━━━━━━━━━━━━━━━━━━━━━━━━━━━━━━━━━━━\u001b[0m \u001b[32m18.3/18.3 MB\u001b[0m \u001b[31m86.6 MB/s\u001b[0m eta \u001b[36m0:00:00\u001b[0m\n",
            "\u001b[?25hInstalling collected packages: numpy\n",
            "  Attempting uninstall: numpy\n",
            "    Found existing installation: numpy 2.0.2\n",
            "    Uninstalling numpy-2.0.2:\n",
            "      Successfully uninstalled numpy-2.0.2\n",
            "\u001b[31mERROR: pip's dependency resolver does not currently take into account all the packages that are installed. This behaviour is the source of the following dependency conflicts.\n",
            "thinc 8.3.6 requires numpy<3.0.0,>=2.0.0, but you have numpy 1.26.4 which is incompatible.\u001b[0m\u001b[31m\n",
            "\u001b[0mSuccessfully installed numpy-1.26.4\n"
          ]
        }
      ]
    },
    {
      "cell_type": "code",
      "execution_count": 1,
      "metadata": {
        "id": "BkWg5f0BqDPK"
      },
      "outputs": [],
      "source": [
        "import pandas as pd\n",
        "import numpy as np\n",
        "from sklearn.metrics import accuracy_score, f1_score\n",
        "from sklearn.model_selection import train_test_split\n",
        "from datasets import load_dataset\n",
        "import nltk\n",
        "from nltk.tokenize import word_tokenize\n",
        "from nltk.corpus import stopwords\n",
        "from nltk.stem import WordNetLemmatizer\n",
        "import fasttext\n",
        "import tensorflow as tf\n",
        "from tensorflow.keras.preprocessing.text import Tokenizer\n",
        "from tensorflow.keras.preprocessing.sequence import pad_sequences\n",
        "from tensorflow.keras.models import Sequential\n",
        "from tensorflow.keras.layers import Embedding, Conv1D, GlobalMaxPooling1D, Dense, Dropout\n",
        "import matplotlib.pyplot as plt"
      ]
    },
    {
      "cell_type": "code",
      "source": [
        "# Download NLTK resources\n",
        "nltk.download('punkt')\n",
        "nltk.download('stopwords')\n",
        "nltk.download('wordnet')"
      ],
      "metadata": {
        "colab": {
          "base_uri": "https://localhost:8080/"
        },
        "id": "rWNGjoT616vi",
        "outputId": "6a406ed5-0c19-49e1-f10b-41f02d314400"
      },
      "execution_count": 2,
      "outputs": [
        {
          "output_type": "stream",
          "name": "stderr",
          "text": [
            "[nltk_data] Downloading package punkt to /root/nltk_data...\n",
            "[nltk_data]   Package punkt is already up-to-date!\n",
            "[nltk_data] Downloading package stopwords to /root/nltk_data...\n",
            "[nltk_data]   Package stopwords is already up-to-date!\n",
            "[nltk_data] Downloading package wordnet to /root/nltk_data...\n",
            "[nltk_data]   Package wordnet is already up-to-date!\n"
          ]
        },
        {
          "output_type": "execute_result",
          "data": {
            "text/plain": [
              "True"
            ]
          },
          "metadata": {},
          "execution_count": 2
        }
      ]
    },
    {
      "cell_type": "code",
      "source": [
        "import nltk\n",
        "nltk.download(['punkt', 'punkt_tab', 'stopwords', 'wordnet'])"
      ],
      "metadata": {
        "colab": {
          "base_uri": "https://localhost:8080/"
        },
        "id": "xbt8p8FR26j3",
        "outputId": "d656d323-4455-4781-c769-d529edf78510"
      },
      "execution_count": 3,
      "outputs": [
        {
          "output_type": "stream",
          "name": "stderr",
          "text": [
            "[nltk_data] Downloading package punkt to /root/nltk_data...\n",
            "[nltk_data]   Package punkt is already up-to-date!\n",
            "[nltk_data] Downloading package punkt_tab to /root/nltk_data...\n",
            "[nltk_data]   Package punkt_tab is already up-to-date!\n",
            "[nltk_data] Downloading package stopwords to /root/nltk_data...\n",
            "[nltk_data]   Package stopwords is already up-to-date!\n",
            "[nltk_data] Downloading package wordnet to /root/nltk_data...\n",
            "[nltk_data]   Package wordnet is already up-to-date!\n"
          ]
        },
        {
          "output_type": "execute_result",
          "data": {
            "text/plain": [
              "True"
            ]
          },
          "metadata": {},
          "execution_count": 3
        }
      ]
    },
    {
      "cell_type": "markdown",
      "source": [
        "**Step 2: Acquire and Inspect the Dataset**\n",
        "\n",
        "Student Instruction: Load the IMDb dataset using the datasets library. Inspect its structure and visualize the class distribution (positive vs. negative reviews)."
      ],
      "metadata": {
        "id": "Y9IOZgH218Ok"
      }
    },
    {
      "cell_type": "code",
      "source": [
        "# Load IMDb dataset\n",
        "dataset = load_dataset('imdb')\n",
        "train_data = dataset['train']\n",
        "test_data = dataset['test']\n",
        "\n",
        "# Convert to pandas DataFrame\n",
        "train_df = pd.DataFrame({'text': train_data['text'], 'label': train_data['label']})\n",
        "test_df = pd.DataFrame({'text': test_data['text'], 'label': test_data['label']})\n",
        "\n",
        "# Inspect the data\n",
        "print(\"First 5 rows of training data:\")\n",
        "print(train_df.head())\n",
        "print(\"\\nTraining data info:\")\n",
        "print(train_df.info())\n",
        "print(\"\\nClass distribution:\")\n",
        "print(train_df['label'].value_counts())\n",
        "\n",
        "# Visualize class distribution\n",
        "plt.figure(figsize=(6, 4))\n",
        "train_df['label'].value_counts().plot(kind='bar', title='Class Distribution (0=Negative, 1=Positive)')\n",
        "plt.xlabel('Label')\n",
        "plt.ylabel('Count')\n",
        "plt.show()"
      ],
      "metadata": {
        "colab": {
          "base_uri": "https://localhost:8080/",
          "height": 998
        },
        "id": "snP7lfmd1_E3",
        "outputId": "e4c76a65-348b-4598-c9c4-1d9a0d87d40a"
      },
      "execution_count": 4,
      "outputs": [
        {
          "output_type": "stream",
          "name": "stderr",
          "text": [
            "/usr/local/lib/python3.11/dist-packages/huggingface_hub/utils/_auth.py:94: UserWarning: \n",
            "The secret `HF_TOKEN` does not exist in your Colab secrets.\n",
            "To authenticate with the Hugging Face Hub, create a token in your settings tab (https://huggingface.co/settings/tokens), set it as secret in your Google Colab and restart your session.\n",
            "You will be able to reuse this secret in all of your notebooks.\n",
            "Please note that authentication is recommended but still optional to access public models or datasets.\n",
            "  warnings.warn(\n"
          ]
        },
        {
          "output_type": "stream",
          "name": "stdout",
          "text": [
            "First 5 rows of training data:\n",
            "                                                text  label\n",
            "0  I rented I AM CURIOUS-YELLOW from my video sto...      0\n",
            "1  \"I Am Curious: Yellow\" is a risible and preten...      0\n",
            "2  If only to avoid making this type of film in t...      0\n",
            "3  This film was probably inspired by Godard's Ma...      0\n",
            "4  Oh, brother...after hearing about this ridicul...      0\n",
            "\n",
            "Training data info:\n",
            "<class 'pandas.core.frame.DataFrame'>\n",
            "RangeIndex: 25000 entries, 0 to 24999\n",
            "Data columns (total 2 columns):\n",
            " #   Column  Non-Null Count  Dtype \n",
            "---  ------  --------------  ----- \n",
            " 0   text    25000 non-null  object\n",
            " 1   label   25000 non-null  int64 \n",
            "dtypes: int64(1), object(1)\n",
            "memory usage: 390.8+ KB\n",
            "None\n",
            "\n",
            "Class distribution:\n",
            "label\n",
            "0    12500\n",
            "1    12500\n",
            "Name: count, dtype: int64\n"
          ]
        },
        {
          "output_type": "display_data",
          "data": {
            "text/plain": [
              "<Figure size 600x400 with 1 Axes>"
            ],
            "image/png": "[encoded data removed]"
          },
          "metadata": {}
        }
      ]
    },
    {
      "cell_type": "markdown",
      "source": [
        "**Step 3: Preprocess the Data**\n",
        "\n",
        "Student Instruction: Preprocess the text data by tokenizing, removing stopwords, lemmatizing, and formatting it for fastText and TextCNN. Split the training data into training (80%) and validation (20%) sets."
      ],
      "metadata": {
        "id": "M4rbldZe2llF"
      }
    },
    {
      "cell_type": "code",
      "source": [
        "# Initialize NLTK tools\n",
        "stop_words = set(stopwords.words('english'))\n",
        "lemmatizer = WordNetLemmatizer()\n",
        "\n",
        "# Text preprocessing function\n",
        "def preprocess_text(text):\n",
        "    tokens = word_tokenize(text.lower())\n",
        "    tokens = [lemmatizer.lemmatize(token) for token in tokens if token.isalnum() and token not in stop_words]\n",
        "    return ' '.join(tokens)\n",
        "\n",
        "# Apply preprocessing\n",
        "train_df['processed_text'] = train_df['text'].apply(preprocess_text)\n",
        "test_df['processed_text'] = test_df['text'].apply(preprocess_text)\n",
        "\n",
        "# Split training data into train and validation\n",
        "train_texts, val_texts, train_labels, val_labels = train_test_split(\n",
        "    train_df['processed_text'], train_df['label'], test_size=0.2, random_state=42\n",
        ")\n",
        "\n",
        "# Prepare data for fastText\n",
        "# fastText requires data in format: __label__<label> <text>\n",
        "train_fasttext = [f\"__label__{label} {text}\" for text, label in zip(train_texts, train_labels)]\n",
        "val_fasttext = [f\"__label__{label} {text}\" for text, label in zip(val_texts, val_labels)]\n",
        "test_fasttext = [f\"__label__{label} {text}\" for text, label in zip(test_df['processed_text'], test_df['label'])]\n",
        "\n",
        "# Save fastText data to files\n",
        "with open('train_fasttext.txt', 'w') as f:\n",
        "    f.write('\\n'.join(train_fasttext))\n",
        "with open('val_fasttext.txt', 'w') as f:\n",
        "    f.write('\\n'.join(val_fasttext))\n",
        "with open('test_fasttext.txt', 'w') as f:\n",
        "    f.write('\\n'.join(test_fasttext))\n",
        "\n",
        "# Prepare data for TextCNN\n",
        "# Tokenize and pad sequences\n",
        "max_words = 5000  # Vocabulary size\n",
        "max_len = 200     # Maximum sequence length\n",
        "tokenizer = Tokenizer(num_words=max_words)\n",
        "tokenizer.fit_on_texts(train_texts)\n",
        "\n",
        "train_sequences = tokenizer.texts_to_sequences(train_texts)\n",
        "val_sequences = tokenizer.texts_to_sequences(val_texts)\n",
        "test_sequences = tokenizer.texts_to_sequences(test_df['processed_text'])\n",
        "\n",
        "train_padded = pad_sequences(train_sequences, maxlen=max_len, padding='post')\n",
        "val_padded = pad_sequences(val_sequences, maxlen=max_len, padding='post')\n",
        "test_padded = pad_sequences(test_sequences, maxlen=max_len, padding='post')\n",
        "\n",
        "train_labels = np.array(train_labels)\n",
        "val_labels = np.array(val_labels)\n",
        "test_labels = np.array(test_df['label'])\n",
        "\n",
        "print(f\"Training data shape (TextCNN): {train_padded.shape}\")\n",
        "print(f\"Validation data shape (TextCNN): {val_padded.shape}\")\n",
        "print(f\"Test data shape (TextCNN): {test_padded.shape}\")"
      ],
      "metadata": {
        "colab": {
          "base_uri": "https://localhost:8080/"
        },
        "id": "Lj9iVSDC2CFc",
        "outputId": "69db0bb7-9756-45a3-f132-7f2438d9c3cd"
      },
      "execution_count": 5,
      "outputs": [
        {
          "output_type": "stream",
          "name": "stdout",
          "text": [
            "Training data shape (TextCNN): (20000, 200)\n",
            "Validation data shape (TextCNN): (5000, 200)\n",
            "Test data shape (TextCNN): (25000, 200)\n"
          ]
        }
      ]
    },
    {
      "cell_type": "markdown",
      "source": [
        "**Step 4: Build and Train Two Models**\n",
        "\n",
        "Student Instruction: Train a fastText model and a TextCNN model on the preprocessed data. Evaluate both on the validation set during training.\n",
        "Model 1: fastText\n",
        "\n",
        "A simple, efficient model using word embeddings."
      ],
      "metadata": {
        "id": "IdCDFYHn3Iji"
      }
    },
    {
      "cell_type": "code",
      "source": [
        "# Train fastText model\n",
        "fasttext_model = fasttext.train_supervised(\n",
        "    input='train_fasttext.txt',\n",
        "    epoch=25,\n",
        "    lr=0.1,\n",
        "    wordNgrams=2,\n",
        "    dim=100\n",
        ")\n",
        "\n",
        "# Evaluate on validation set\n",
        "val_predictions = [int(fasttext_model.predict(text)[0][0].replace('__label__', '')) for text in val_fasttext]\n",
        "val_accuracy_fasttext = accuracy_score(val_labels, val_predictions)\n",
        "val_f1_fasttext = f1_score(val_labels, val_predictions)\n",
        "\n",
        "print(f\"fastText Validation Accuracy: {val_accuracy_fasttext:.4f}\")\n",
        "print(f\"fastText Validation F1-Score: {val_f1_fasttext:.4f}\")"
      ],
      "metadata": {
        "colab": {
          "base_uri": "https://localhost:8080/"
        },
        "id": "sKGW-3bR3pV2",
        "outputId": "6eaf4bbf-bb71-4e38-b9ca-b05cd3151460"
      },
      "execution_count": 6,
      "outputs": [
        {
          "output_type": "stream",
          "name": "stdout",
          "text": [
            "fastText Validation Accuracy: 0.8908\n",
            "fastText Validation F1-Score: 0.8909\n"
          ]
        }
      ]
    },
    {
      "cell_type": "markdown",
      "source": [
        "**Model 2: TextCNN**\n",
        "\n",
        "A convolutional neural network for text classification."
      ],
      "metadata": {
        "id": "mYdqppLn4iV4"
      }
    },
    {
      "cell_type": "code",
      "source": [
        "# Build TextCNN model\n",
        "embedding_dim = 100\n",
        "model_textcnn = Sequential([\n",
        "    Embedding(max_words, embedding_dim, input_length=max_len),\n",
        "    Conv1D(128, 5, activation='relu'),\n",
        "    GlobalMaxPooling1D(),\n",
        "    Dense(64, activation='relu'),\n",
        "    Dropout(0.5),\n",
        "    Dense(1, activation='sigmoid')\n",
        "])\n",
        "\n",
        "# Compile TextCNN\n",
        "model_textcnn.compile(optimizer='adam', loss='binary_crossentropy', metrics=['accuracy'])\n",
        "\n",
        "# Train TextCNN\n",
        "history_textcnn = model_textcnn.fit(\n",
        "    train_padded, train_labels,\n",
        "    epochs=10,\n",
        "    batch_size=32,\n",
        "    validation_data=(val_padded, val_labels),\n",
        "    verbose=1\n",
        ")\n",
        "\n",
        "# Evaluate on validation set\n",
        "val_pred_textcnn = (model_textcnn.predict(val_padded) > 0.5).astype(int).flatten()\n",
        "val_accuracy_textcnn = accuracy_score(val_labels, val_pred_textcnn)\n",
        "val_f1_textcnn = f1_score(val_labels, val_pred_textcnn)\n",
        "\n",
        "print(f\"TextCNN Validation Accuracy: {val_accuracy_textcnn:.4f}\")\n",
        "print(f\"TextCNN Validation F1-Score: {val_f1_textcnn:.4f}\")"
      ],
      "metadata": {
        "colab": {
          "base_uri": "https://localhost:8080/"
        },
        "id": "xUmGS25R4jVX",
        "outputId": "ceb6eee5-a146-482b-8f86-9b1bdeaf5048"
      },
      "execution_count": 7,
      "outputs": [
        {
          "output_type": "stream",
          "name": "stdout",
          "text": [
            "Epoch 1/10\n"
          ]
        },
        {
          "output_type": "stream",
          "name": "stderr",
          "text": [
            "/usr/local/lib/python3.11/dist-packages/keras/src/layers/core/embedding.py:90: UserWarning: Argument `input_length` is deprecated. Just remove it.\n",
            "  warnings.warn(\n"
          ]
        },
        {
          "output_type": "stream",
          "name": "stdout",
          "text": [
            "\u001b[1m625/625\u001b[0m \u001b[32m━━━━━━━━━━━━━━━━━━━━\u001b[0m\u001b[37m\u001b[0m \u001b[1m6s\u001b[0m 4ms/step - accuracy: 0.6857 - loss: 0.5548 - val_accuracy: 0.8652 - val_loss: 0.3164\n",
            "Epoch 2/10\n",
            "\u001b[1m625/625\u001b[0m \u001b[32m━━━━━━━━━━━━━━━━━━━━\u001b[0m\u001b[37m\u001b[0m \u001b[1m2s\u001b[0m 3ms/step - accuracy: 0.9065 - loss: 0.2417 - val_accuracy: 0.8574 - val_loss: 0.3265\n",
            "Epoch 3/10\n",
            "\u001b[1m625/625\u001b[0m \u001b[32m━━━━━━━━━━━━━━━━━━━━\u001b[0m\u001b[37m\u001b[0m \u001b[1m2s\u001b[0m 3ms/step - accuracy: 0.9661 - loss: 0.1101 - val_accuracy: 0.8726 - val_loss: 0.3586\n",
            "Epoch 4/10\n",
            "\u001b[1m625/625\u001b[0m \u001b[32m━━━━━━━━━━━━━━━━━━━━\u001b[0m\u001b[37m\u001b[0m \u001b[1m2s\u001b[0m 3ms/step - accuracy: 0.9913 - loss: 0.0367 - val_accuracy: 0.8712 - val_loss: 0.4058\n",
            "Epoch 5/10\n",
            "\u001b[1m625/625\u001b[0m \u001b[32m━━━━━━━━━━━━━━━━━━━━\u001b[0m\u001b[37m\u001b[0m \u001b[1m2s\u001b[0m 3ms/step - accuracy: 0.9981 - loss: 0.0122 - val_accuracy: 0.8732 - val_loss: 0.5231\n",
            "Epoch 6/10\n",
            "\u001b[1m625/625\u001b[0m \u001b[32m━━━━━━━━━━━━━━━━━━━━\u001b[0m\u001b[37m\u001b[0m \u001b[1m2s\u001b[0m 3ms/step - accuracy: 0.9988 - loss: 0.0063 - val_accuracy: 0.8722 - val_loss: 0.6498\n",
            "Epoch 7/10\n",
            "\u001b[1m625/625\u001b[0m \u001b[32m━━━━━━━━━━━━━━━━━━━━\u001b[0m\u001b[37m\u001b[0m \u001b[1m2s\u001b[0m 3ms/step - accuracy: 0.9989 - loss: 0.0048 - val_accuracy: 0.8720 - val_loss: 0.6680\n",
            "Epoch 8/10\n",
            "\u001b[1m625/625\u001b[0m \u001b[32m━━━━━━━━━━━━━━━━━━━━\u001b[0m\u001b[37m\u001b[0m \u001b[1m2s\u001b[0m 3ms/step - accuracy: 0.9950 - loss: 0.0147 - val_accuracy: 0.8622 - val_loss: 0.6839\n",
            "Epoch 9/10\n",
            "\u001b[1m625/625\u001b[0m \u001b[32m━━━━━━━━━━━━━━━━━━━━\u001b[0m\u001b[37m\u001b[0m \u001b[1m2s\u001b[0m 3ms/step - accuracy: 0.9956 - loss: 0.0119 - val_accuracy: 0.8688 - val_loss: 0.6735\n",
            "Epoch 10/10\n",
            "\u001b[1m625/625\u001b[0m \u001b[32m━━━━━━━━━━━━━━━━━━━━\u001b[0m\u001b[37m\u001b[0m \u001b[1m2s\u001b[0m 3ms/step - accuracy: 0.9959 - loss: 0.0125 - val_accuracy: 0.8636 - val_loss: 0.7746\n",
            "\u001b[1m157/157\u001b[0m \u001b[32m━━━━━━━━━━━━━━━━━━━━\u001b[0m\u001b[37m\u001b[0m \u001b[1m1s\u001b[0m 3ms/step\n",
            "TextCNN Validation Accuracy: 0.8636\n",
            "TextCNN Validation F1-Score: 0.8680\n"
          ]
        }
      ]
    },
    {
      "cell_type": "markdown",
      "source": [
        "**Step 5: Evaluate and Compare Models**\n",
        "\n",
        "Student Instruction: Evaluate both models on the test set, compute accuracy and F1-score, and visualize their performance. Compare the models based on metrics and training behavior."
      ],
      "metadata": {
        "id": "zktoLJPI45Xa"
      }
    },
    {
      "cell_type": "code",
      "source": [
        "# Evaluate fastText on test set\n",
        "test_predictions_fasttext = [int(fasttext_model.predict(text)[0][0].replace('__label__', '')) for text in test_fasttext]\n",
        "test_accuracy_fasttext = accuracy_score(test_labels, test_predictions_fasttext)\n",
        "test_f1_fasttext = f1_score(test_labels, test_predictions_fasttext)\n",
        "\n",
        "print(f\"fastText Test Accuracy: {test_accuracy_fasttext:.4f}\")\n",
        "print(f\"fastText Test F1-Score: {test_f1_fasttext:.4f}\")\n",
        "\n",
        "# Evaluate TextCNN on test set\n",
        "test_pred_textcnn = (model_textcnn.predict(test_padded) > 0.5).astype(int).flatten()\n",
        "test_accuracy_textcnn = accuracy_score(test_labels, test_pred_textcnn)\n",
        "test_f1_textcnn = f1_score(test_labels, test_pred_textcnn)\n",
        "\n",
        "print(f\"TextCNN Test Accuracy: {test_accuracy_textcnn:.4f}\")\n",
        "print(f\"TextCNN Test F1-Score: {test_f1_textcnn:.4f}\")\n",
        "\n",
        "# Visualize performance comparison\n",
        "metrics = ['Accuracy', 'F1-Score']\n",
        "fasttext_scores = [test_accuracy_fasttext, test_f1_fasttext]\n",
        "textcnn_scores = [test_accuracy_textcnn, test_f1_textcnn]\n",
        "\n",
        "x = np.arange(len(metrics))\n",
        "width = 0.35\n",
        "\n",
        "fig, ax = plt.subplots(figsize=(8, 5))\n",
        "ax.bar(x - width/2, fasttext_scores, width, label='fastText')\n",
        "ax.bar(x + width/2, textcnn_scores, width, label='TextCNN')\n",
        "ax.set_ylabel('Score')\n",
        "ax.set_title('fastText vs TextCNN: Test Set Performance')\n",
        "ax.set_xticks(x)\n",
        "ax.set_xticklabels(metrics)\n",
        "ax.legend()\n",
        "plt.show()\n",
        "\n",
        "# Visualize TextCNN training history\n",
        "plt.figure(figsize=(10, 5))\n",
        "plt.plot(history_textcnn.history['accuracy'], label='TextCNN Train Accuracy')\n",
        "plt.plot(history_textcnn.history['val_accuracy'], label='TextCNN Validation Accuracy')\n",
        "plt.title('TextCNN Training and Validation Accuracy')\n",
        "plt.xlabel('Epoch')\n",
        "plt.ylabel('Accuracy')\n",
        "plt.legend()\n",
        "plt.show()"
      ],
      "metadata": {
        "colab": {
          "base_uri": "https://localhost:8080/",
          "height": 999
        },
        "id": "hHGHQtar48c-",
        "outputId": "2c5c4cb5-55ae-4c4d-cff3-44468f1b760c"
      },
      "execution_count": 8,
      "outputs": [
        {
          "output_type": "stream",
          "name": "stdout",
          "text": [
            "fastText Test Accuracy: 0.8826\n",
            "fastText Test F1-Score: 0.8822\n",
            "\u001b[1m782/782\u001b[0m \u001b[32m━━━━━━━━━━━━━━━━━━━━\u001b[0m\u001b[37m\u001b[0m \u001b[1m1s\u001b[0m 1ms/step\n",
            "TextCNN Test Accuracy: 0.8552\n",
            "TextCNN Test F1-Score: 0.8605\n"
          ]
        },
        {
          "output_type": "display_data",
          "data": {
            "text/plain": [
              "<Figure size 800x500 with 1 Axes>"
            ],
            "image/png": "[encoded data removed]"
          },
          "metadata": {}
        },
        {
          "output_type": "display_data",
          "data": {
            "text/plain": [
              "<Figure size 1000x500 with 1 Axes>"
            ],
            "image/png": "[encoded data removed]"
          },
          "metadata": {}
        }
      ]
    },
    {
      "cell_type": "markdown",
      "source": [
        "**Step 6: Assignment for Students**\n",
        "\n",
        "Student Instruction: Based on the test metrics, bar plot, and TextCNN training history, answer the following:\n",
        "\n",
        "    Which model performed better on the test set (higher accuracy/F1-score)? Why might this be (e.g., model complexity, training time)?\n",
        "    Did TextCNN show signs of overfitting? Analyze the training vs. validation accuracy plot.\n",
        "    Suggest one improvement for either model (e.g., adjust fastText’s wordNgrams, add more convolutional layers to TextCNN, or use pre-trained embeddings like GloVe)."
      ],
      "metadata": {
        "id": "DnNmiIZ85Bfq"
      }
    },
    {
      "cell_type": "markdown",
      "source": [
        "**Extract Key Words/Phrases for Synthetic Data**\n",
        "\n",
        "Student Instruction: Preprocess the original reviews to extract frequent words/phrases for positive and negative classes, which will guide synthetic data generation."
      ],
      "metadata": {
        "id": "0qXOLOSs5ftn"
      }
    },
    {
      "cell_type": "code",
      "source": [
        "from collections import Counter\n",
        "# Initialize NLTK tools\n",
        "stop_words = set(stopwords.words('english'))\n",
        "lemmatizer = WordNetLemmatizer()\n",
        "\n",
        "# Preprocessing function\n",
        "def preprocess_text(text):\n",
        "    tokens = word_tokenize(text.lower())\n",
        "    tokens = [lemmatizer.lemmatize(token) for token in tokens if token.isalnum() and token not in stop_words]\n",
        "    return tokens\n",
        "\n",
        "# Extract words by class\n",
        "positive_texts = train_df[train_df['label'] == 1]['text'].apply(preprocess_text)\n",
        "negative_texts = train_df[train_df['label'] == 0]['text'].apply(preprocess_text)\n",
        "\n",
        "# Flatten and count words\n",
        "positive_words = Counter([word for text in positive_texts for word in text])\n",
        "negative_words = Counter([word for text in negative_texts for word in text])\n",
        "\n",
        "# Get top 100 words for each class\n",
        "top_positive_words = [word for word, _ in positive_words.most_common(100)]\n",
        "top_negative_words = [word for word, _ in negative_words.most_common(100)]\n",
        "\n",
        "print(\"Top 10 positive words:\", top_positive_words[:10])\n",
        "print(\"Top 10 negative words:\", top_negative_words[:10])"
      ],
      "metadata": {
        "colab": {
          "base_uri": "https://localhost:8080/"
        },
        "id": "6JE8LYE25nU9",
        "outputId": "bffa1c07-54d0-41b9-d3b0-856f50ea3bca"
      },
      "execution_count": 11,
      "outputs": [
        {
          "output_type": "stream",
          "name": "stdout",
          "text": [
            "Top 10 positive words: ['br', 'film', 'movie', 'one', 'like', 'time', 'good', 'story', 'character', 'great']\n",
            "Top 10 negative words: ['br', 'movie', 'film', 'one', 'like', 'would', 'even', 'good', 'time', 'bad']\n"
          ]
        }
      ]
    },
    {
      "cell_type": "markdown",
      "source": [
        "**Generate Synthetic Data**\n",
        "\n",
        "Student Instruction: Use faker and the extracted words to generate 20,000 synthetic reviews (10,000 positive, 10,000 negative) mimicking IMDb reviews."
      ],
      "metadata": {
        "id": "OYHRD891505R"
      }
    },
    {
      "cell_type": "code",
      "source": [
        "! pip install faker\n",
        "from faker import Faker\n",
        "import random\n",
        "# Initialize Faker\n",
        "faker = Faker()\n",
        "\n",
        "# Templates for synthetic reviews\n",
        "positive_templates = [\n",
        "    \"This movie was {word1}! The {word2} acting and {word3} story made it {word4}.\",\n",
        "    \"I loved the {word1} plot and {word2} characters. Truly {word3}!\",\n",
        "    \"A {word1} film with {word2} moments. The {word3} direction was {word4}.\",\n",
        "]\n",
        "negative_templates = [\n",
        "    \"This movie was {word1}. The {word2} plot and {word3} acting were {word4}.\",\n",
        "    \"I hated the {word1} story and {word2} characters. It was {word3}!\",\n",
        "    \"A {word1} film with {word2} scenes. The {word3} direction was {word4}.\",\n",
        "]\n",
        "\n",
        "# Generate synthetic reviews\n",
        "def generate_synthetic_review(label):\n",
        "    if label == 1:\n",
        "        template = random.choice(positive_templates)\n",
        "        words = random.sample(top_positive_words, 4)\n",
        "    else:\n",
        "        template = random.choice(negative_templates)\n",
        "        words = random.sample(top_negative_words, 4)\n",
        "    return template.format(word1=words[0], word2=words[1], word3=words[2], word4=words[3])\n",
        "\n",
        "# Create synthetic dataset (20,000 reviews)\n",
        "synthetic_data = []\n",
        "for _ in range(10000):\n",
        "    synthetic_data.append({'text': generate_synthetic_review(1), 'label': 1})\n",
        "    synthetic_data.append({'text': generate_synthetic_review(0), 'label': 0})\n",
        "\n",
        "# Convert to DataFrame\n",
        "synthetic_df = pd.DataFrame(synthetic_data)\n",
        "\n",
        "# Inspect synthetic data\n",
        "print(\"\\nSynthetic data sample:\")\n",
        "print(synthetic_df.head())\n",
        "print(\"\\nSynthetic class distribution:\")\n",
        "print(synthetic_df['label'].value_counts())"
      ],
      "metadata": {
        "colab": {
          "base_uri": "https://localhost:8080/"
        },
        "id": "vj2EuDJB54Fs",
        "outputId": "2c099c29-61fe-443b-9e1c-2fbba5a28af8"
      },
      "execution_count": 13,
      "outputs": [
        {
          "output_type": "stream",
          "name": "stdout",
          "text": [
            "Collecting faker\n",
            "  Downloading faker-37.3.0-py3-none-any.whl.metadata (15 kB)\n",
            "Requirement already satisfied: tzdata in /usr/local/lib/python3.11/dist-packages (from faker) (2025.2)\n",
            "Downloading faker-37.3.0-py3-none-any.whl (1.9 MB)\n",
            "\u001b[?25l   \u001b[90m━━━━━━━━━━━━━━━━━━━━━━━━━━━━━━━━━━━━━━━━\u001b[0m \u001b[32m0.0/1.9 MB\u001b[0m \u001b[31m?\u001b[0m eta \u001b[36m-:--:--\u001b[0m\r\u001b[2K   \u001b[90m━━━━━━━━━━━━━━━━━━━━━━━━━━━━━━━━━━━━━━━━\u001b[0m \u001b[32m1.9/1.9 MB\u001b[0m \u001b[31m86.1 MB/s\u001b[0m eta \u001b[36m0:00:00\u001b[0m\n",
            "\u001b[?25hInstalling collected packages: faker\n",
            "Successfully installed faker-37.3.0\n",
            "\n",
            "Synthetic data sample:\n",
            "                                                text  label\n",
            "0  A little film with friend moments. The actuall...      1\n",
            "1  A go film with find scenes. The guy direction ...      0\n",
            "2  I loved the people plot and made characters. T...      1\n",
            "3  A ever film with time scenes. The actor direct...      0\n",
            "4  I loved the funny plot and look characters. Tr...      1\n",
            "\n",
            "Synthetic class distribution:\n",
            "label\n",
            "1    10000\n",
            "0    10000\n",
            "Name: count, dtype: int64\n"
          ]
        }
      ]
    },
    {
      "cell_type": "markdown",
      "source": [
        "**Preprocess Synthetic Data**\n",
        "\n",
        "Student Instruction: Preprocess the synthetic data for fastText and TextCNN, similar to the original data. Split into training (80%) and validation (20%) sets."
      ],
      "metadata": {
        "id": "2x5lGx626Md7"
      }
    },
    {
      "cell_type": "code",
      "source": [
        "# Apply preprocessing\n",
        "synthetic_df['processed_text'] = synthetic_df['text'].apply(lambda x: ' '.join(preprocess_text(x)))\n",
        "\n",
        "# Split synthetic data\n",
        "train_texts_synth, val_texts_synth, train_labels_synth, val_labels_synth = train_test_split(\n",
        "    synthetic_df['processed_text'], synthetic_df['label'], test_size=0.2, random_state=42\n",
        ")\n",
        "\n",
        "# Prepare for fastText\n",
        "train_fasttext_synth = [f\"__label__{label} {text}\" for text, label in zip(train_texts_synth, train_labels_synth)]\n",
        "val_fasttext_synth = [f\"__label__{label} {text}\" for text, label in zip(val_texts_synth, val_labels_synth)]\n",
        "\n",
        "# Save fastText data\n",
        "with open('train_fasttext_synth.txt', 'w') as f:\n",
        "    f.write('\\n'.join(train_fasttext_synth))\n",
        "with open('val_fasttext_synth.txt', 'w') as f:\n",
        "    f.write('\\n'.join(val_fasttext_synth))\n",
        "\n",
        "# Prepare for TextCNN\n",
        "max_words = 5000\n",
        "max_len = 200\n",
        "tokenizer_synth = Tokenizer(num_words=max_words)\n",
        "tokenizer_synth.fit_on_texts(train_texts_synth)\n",
        "\n",
        "train_sequences_synth = tokenizer_synth.texts_to_sequences(train_texts_synth)\n",
        "val_sequences_synth = tokenizer_synth.texts_to_sequences(val_texts_synth)\n",
        "\n",
        "train_padded_synth = pad_sequences(train_sequences_synth, maxlen=max_len, padding='post')\n",
        "val_padded_synth = pad_sequences(val_sequences_synth, maxlen=max_len, padding='post')\n",
        "\n",
        "train_labels_synth = np.array(train_labels_synth)\n",
        "val_labels_synth = np.array(val_labels_synth)\n",
        "\n",
        "print(f\"Synthetic training data shape (TextCNN): {train_padded_synth.shape}\")\n",
        "print(f\"Synthetic validation data shape (TextCNN): {val_padded_synth.shape}\")"
      ],
      "metadata": {
        "colab": {
          "base_uri": "https://localhost:8080/"
        },
        "id": "-vvkE_3v6PRU",
        "outputId": "12b38bcc-0dfe-4f02-b54f-f1752b233fdf"
      },
      "execution_count": 14,
      "outputs": [
        {
          "output_type": "stream",
          "name": "stdout",
          "text": [
            "Synthetic training data shape (TextCNN): (16000, 200)\n",
            "Synthetic validation data shape (TextCNN): (4000, 200)\n"
          ]
        }
      ]
    },
    {
      "cell_type": "markdown",
      "source": [
        "**Train and Evaluate Models on Synthetic Data**\n",
        "\n",
        "Student Instruction: Train fastText and TextCNN on the synthetic data and evaluate on the validation set."
      ],
      "metadata": {
        "id": "qrP7O-UA6R1a"
      }
    },
    {
      "cell_type": "code",
      "source": [
        "# Train fastText on synthetic data\n",
        "fasttext_model_synth = fasttext.train_supervised(\n",
        "    input='train_fasttext_synth.txt',\n",
        "    epoch=25,\n",
        "    lr=0.1,\n",
        "    wordNgrams=2,\n",
        "    dim=100\n",
        ")\n",
        "\n",
        "# Evaluate on synthetic validation set\n",
        "val_predictions_synth = [int(fasttext_model_synth.predict(text)[0][0].replace('__label__', '')) for text in val_fasttext_synth]\n",
        "val_accuracy_fasttext_synth = accuracy_score(val_labels_synth, val_predictions_synth)\n",
        "val_f1_fasttext_synth = f1_score(val_labels_synth, val_predictions_synth)\n",
        "\n",
        "print(f\"fastText Synthetic Validation Accuracy: {val_accuracy_fasttext_synth:.4f}\")\n",
        "print(f\"fastText Synthetic Validation F1-Score: {val_f1_fasttext_synth:.4f}\")"
      ],
      "metadata": {
        "colab": {
          "base_uri": "https://localhost:8080/"
        },
        "id": "EHIgVOtO6VKN",
        "outputId": "8196b095-6293-40f4-a74a-84c845aee0cf"
      },
      "execution_count": 15,
      "outputs": [
        {
          "output_type": "stream",
          "name": "stdout",
          "text": [
            "fastText Synthetic Validation Accuracy: 1.0000\n",
            "fastText Synthetic Validation F1-Score: 1.0000\n"
          ]
        }
      ]
    },
    {
      "cell_type": "code",
      "source": [
        "# Build TextCNN model\n",
        "embedding_dim = 100\n",
        "model_textcnn_synth = Sequential([\n",
        "    Embedding(max_words, embedding_dim, input_length=max_len),\n",
        "    Conv1D(128, 5, activation='relu'),\n",
        "    GlobalMaxPooling1D(),\n",
        "    Dense(64, activation='relu'),\n",
        "    Dropout(0.5),\n",
        "    Dense(1, activation='sigmoid')\n",
        "])\n",
        "\n",
        "# Compile TextCNN\n",
        "model_textcnn_synth.compile(optimizer='adam', loss='binary_crossentropy', metrics=['accuracy'])\n",
        "\n",
        "# Train TextCNN\n",
        "history_textcnn_synth = model_textcnn_synth.fit(\n",
        "    train_padded_synth, train_labels_synth,\n",
        "    epochs=10,\n",
        "    batch_size=32,\n",
        "    validation_data=(val_padded_synth, val_labels_synth),\n",
        "    verbose=1\n",
        ")\n",
        "\n",
        "# Evaluate on synthetic validation set\n",
        "val_pred_textcnn_synth = (model_textcnn_synth.predict(val_padded_synth) > 0.5).astype(int).flatten()\n",
        "val_accuracy_textcnn_synth = accuracy_score(val_labels_synth, val_pred_textcnn_synth)\n",
        "val_f1_textcnn_synth = f1_score(val_labels_synth, val_pred_textcnn_synth)\n",
        "\n",
        "print(f\"TextCNN Synthetic Validation Accuracy: {val_accuracy_textcnn_synth:.4f}\")\n",
        "print(f\"TextCNN Synthetic Validation F1-Score: {val_f1_textcnn_synth:.4f}\")"
      ],
      "metadata": {
        "colab": {
          "base_uri": "https://localhost:8080/"
        },
        "id": "jbCOctrF6Xe3",
        "outputId": "c3db06dc-eec6-4102-cb4d-7fcd488e0754"
      },
      "execution_count": 16,
      "outputs": [
        {
          "output_type": "stream",
          "name": "stdout",
          "text": [
            "Epoch 1/10\n"
          ]
        },
        {
          "output_type": "stream",
          "name": "stderr",
          "text": [
            "/usr/local/lib/python3.11/dist-packages/keras/src/layers/core/embedding.py:90: UserWarning: Argument `input_length` is deprecated. Just remove it.\n",
            "  warnings.warn(\n"
          ]
        },
        {
          "output_type": "stream",
          "name": "stdout",
          "text": [
            "\u001b[1m500/500\u001b[0m \u001b[32m━━━━━━━━━━━━━━━━━━━━\u001b[0m\u001b[37m\u001b[0m \u001b[1m4s\u001b[0m 3ms/step - accuracy: 0.9600 - loss: 0.1393 - val_accuracy: 1.0000 - val_loss: 9.0632e-06\n",
            "Epoch 2/10\n",
            "\u001b[1m500/500\u001b[0m \u001b[32m━━━━━━━━━━━━━━━━━━━━\u001b[0m\u001b[37m\u001b[0m \u001b[1m1s\u001b[0m 3ms/step - accuracy: 1.0000 - loss: 1.6814e-04 - val_accuracy: 1.0000 - val_loss: 1.0670e-06\n",
            "Epoch 3/10\n",
            "\u001b[1m500/500\u001b[0m \u001b[32m━━━━━━━━━━━━━━━━━━━━\u001b[0m\u001b[37m\u001b[0m \u001b[1m1s\u001b[0m 3ms/step - accuracy: 0.9998 - loss: 7.4494e-04 - val_accuracy: 1.0000 - val_loss: 1.4824e-06\n",
            "Epoch 4/10\n",
            "\u001b[1m500/500\u001b[0m \u001b[32m━━━━━━━━━━━━━━━━━━━━\u001b[0m\u001b[37m\u001b[0m \u001b[1m2s\u001b[0m 3ms/step - accuracy: 1.0000 - loss: 6.0770e-05 - val_accuracy: 1.0000 - val_loss: 1.1748e-06\n",
            "Epoch 5/10\n",
            "\u001b[1m500/500\u001b[0m \u001b[32m━━━━━━━━━━━━━━━━━━━━\u001b[0m\u001b[37m\u001b[0m \u001b[1m1s\u001b[0m 3ms/step - accuracy: 1.0000 - loss: 1.2710e-05 - val_accuracy: 1.0000 - val_loss: 1.1148e-06\n",
            "Epoch 6/10\n",
            "\u001b[1m500/500\u001b[0m \u001b[32m━━━━━━━━━━━━━━━━━━━━\u001b[0m\u001b[37m\u001b[0m \u001b[1m1s\u001b[0m 3ms/step - accuracy: 1.0000 - loss: 1.1529e-05 - val_accuracy: 1.0000 - val_loss: 7.7240e-07\n",
            "Epoch 7/10\n",
            "\u001b[1m500/500\u001b[0m \u001b[32m━━━━━━━━━━━━━━━━━━━━\u001b[0m\u001b[37m\u001b[0m \u001b[1m1s\u001b[0m 3ms/step - accuracy: 1.0000 - loss: 4.5306e-06 - val_accuracy: 1.0000 - val_loss: 5.6533e-07\n",
            "Epoch 8/10\n",
            "\u001b[1m500/500\u001b[0m \u001b[32m━━━━━━━━━━━━━━━━━━━━\u001b[0m\u001b[37m\u001b[0m \u001b[1m1s\u001b[0m 3ms/step - accuracy: 1.0000 - loss: 3.8253e-06 - val_accuracy: 1.0000 - val_loss: 2.2901e-07\n",
            "Epoch 9/10\n",
            "\u001b[1m500/500\u001b[0m \u001b[32m━━━━━━━━━━━━━━━━━━━━\u001b[0m\u001b[37m\u001b[0m \u001b[1m1s\u001b[0m 3ms/step - accuracy: 0.9999 - loss: 7.5838e-04 - val_accuracy: 1.0000 - val_loss: 2.6480e-06\n",
            "Epoch 10/10\n",
            "\u001b[1m500/500\u001b[0m \u001b[32m━━━━━━━━━━━━━━━━━━━━\u001b[0m\u001b[37m\u001b[0m \u001b[1m1s\u001b[0m 3ms/step - accuracy: 1.0000 - loss: 2.0422e-05 - val_accuracy: 1.0000 - val_loss: 1.6995e-06\n",
            "\u001b[1m125/125\u001b[0m \u001b[32m━━━━━━━━━━━━━━━━━━━━\u001b[0m\u001b[37m\u001b[0m \u001b[1m0s\u001b[0m 1ms/step\n",
            "TextCNN Synthetic Validation Accuracy: 1.0000\n",
            "TextCNN Synthetic Validation F1-Score: 1.0000\n"
          ]
        }
      ]
    },
    {
      "cell_type": "markdown",
      "source": [
        "Question: what do you get for accuracy and f1-score for synthetic data?\n",
        "why is that?"
      ],
      "metadata": {
        "id": "36Mk71Dh6f49"
      }
    },
    {
      "cell_type": "markdown",
      "source": [
        "answer:\n",
        "\n",
        "***Overly Simplistic Synthetic Data***: The synthetic reviews, generated using fixed templates and a limited set of class-specific words (top 100 positive/negative words), are too predictable. The models can easily distinguish positive from negative reviews because the vocabulary and sentence structures are highly separable (e.g., positive reviews only use \"great,\" \"wonderful,\" etc., while negative ones use \"bad,\" \"terrible\").\n",
        "\n",
        "***Data Leakage***: The synthetic data generation process may inadvertently make the validation set too similar to the training set, as both are drawn from the same templates and word lists. This reduces generalization challenges, allowing models to memorize patterns.\n",
        "\n",
        "\n",
        "***Model Overfitting to Simple Patterns***: Both fastText (using bigrams) and TextCNN (with convolutional layers) are powerful enough to exploit the simplistic patterns in the synthetic data, leading to perfect classification."
      ],
      "metadata": {
        "id": "S0py3UDE6lQG"
      }
    }
  ]
}