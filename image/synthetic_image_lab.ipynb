{
  "nbformat": 4,
  "nbformat_minor": 0,
  "metadata": {
    "colab": {
      "provenance": []
    },
    "kernelspec": {
      "name": "python3",
      "display_name": "Python 3"
    },
    "language_info": {
      "name": "python"
    }
  },
  "cells": [
    {
      "cell_type": "markdown",
      "source": [
        "1) DCGAN - deep learning taste!"
      ],
      "metadata": {
        "id": "F4B37xfAzRKx"
      }
    },
    {
      "cell_type": "code",
      "execution_count": null,
      "metadata": {
        "id": "B_J_LqAGzOwl"
      },
      "outputs": [],
      "source": [
        "# Import Libraries\n",
        "import tensorflow as tf\n",
        "from tensorflow.keras import layers\n",
        "import numpy as np\n",
        "import matplotlib.pyplot as plt\n",
        "import time\n",
        "import os\n",
        "from PIL import Image\n",
        "import subprocess"
      ]
    },
    {
      "cell_type": "code",
      "source": [
        "# Install pytorch-fid and dependencies\n",
        "subprocess.run([\"pip\", \"install\", \"pytorch-fid\", \"torch\", \"torchvision\"], check=True)\n",
        "\n",
        "# Set random seed for reproducibility\n",
        "tf.random.set_seed(42)\n",
        "np.random.seed(42)"
      ],
      "metadata": {
        "id": "xpdkoRwwzq01"
      },
      "execution_count": null,
      "outputs": []
    },
    {
      "cell_type": "markdown",
      "source": [
        "Q: finish a smal task in step 1"
      ],
      "metadata": {
        "id": "COz0fUOT1I0c"
      }
    },
    {
      "cell_type": "code",
      "source": [
        "# Step 1: Load and Preprocess MNIST Dataset\n",
        "def load_mnist_data():\n",
        "\n",
        "# 1) Load MNIST dataset (28x28 grayscale images)\n",
        "# 2) Normalize images to [-1, 1] and reshape for DCGAN\n",
        "# 3) Create a TensorFlow dataset"
      ],
      "metadata": {
        "id": "Qz2hx80AztVg"
      },
      "execution_count": null,
      "outputs": []
    },
    {
      "cell_type": "code",
      "source": [
        "# Step 2: Define the Generator Model\n",
        "def make_generator_model():\n",
        "    model = tf.keras.Sequential([\n",
        "        # Input: Random noise vector (100-dimensional)\n",
        "        layers.Dense(7*7*256, use_bias=False, input_shape=(100,)),\n",
        "        layers.BatchNormalization(),\n",
        "        layers.LeakyReLU(),\n",
        "\n",
        "        # Reshape to feature map\n",
        "        layers.Reshape((7, 7, 256)),\n",
        "\n",
        "        # Upsample to 14x14\n",
        "        layers.Conv2DTranspose(128, (5, 5), strides=(1, 1), padding='same', use_bias=False),\n",
        "        layers.BatchNormalization(),\n",
        "        layers.LeakyReLU(),\n",
        "\n",
        "        # Upsample to 28x28\n",
        "        layers.Conv2DTranspose(64, (5, 5), strides=(2, 2), padding='same', use_bias=False),\n",
        "        layers.BatchNormalization(),\n",
        "        layers.LeakyReLU(),\n",
        "\n",
        "        # Output: 28x28x1 image\n",
        "        layers.Conv2DTranspose(1, (5, 5), strides=(2, 2), padding='same', use_bias=False, activation='tanh')\n",
        "    ])\n",
        "    return model"
      ],
      "metadata": {
        "id": "EAap5mpk0AP7"
      },
      "execution_count": null,
      "outputs": []
    },
    {
      "cell_type": "code",
      "source": [
        "# Step 3: Define the Discriminator Model\n",
        "def make_discriminator_model():\n",
        "    model = tf.keras.Sequential([\n",
        "        # Input: 28x28x1 image\n",
        "        layers.Conv2D(64, (5, 5), strides=(2, 2), padding='same', input_shape=[28, 28, 1]),\n",
        "        layers.LeakyReLU(),\n",
        "        layers.Dropout(0.3),\n",
        "\n",
        "        # Downsample\n",
        "        layers.Conv2D(128, (5, 5), strides=(2, 2), padding='same'),\n",
        "        layers.LeakyReLU(),\n",
        "        layers.Dropout(0.3),\n",
        "\n",
        "        # Flatten and output probability\n",
        "        layers.Flatten(),\n",
        "        layers.Dense(1, activation='sigmoid')\n",
        "    ])\n",
        "    return model"
      ],
      "metadata": {
        "id": "TkBb0HN40XXn"
      },
      "execution_count": null,
      "outputs": []
    },
    {
      "cell_type": "code",
      "source": [
        "# Step 4: Define Loss Functions\n",
        "cross_entropy = tf.keras.losses.BinaryCrossentropy(from_logits=False)\n",
        "\n",
        "def discriminator_loss(real_output, fake_output):\n",
        "    real_loss = cross_entropy(tf.ones_like(real_output), real_output)\n",
        "    fake_loss = cross_entropy(tf.zeros_like(fake_output), fake_output)\n",
        "    total_loss = real_loss + fake_loss\n",
        "    return total_loss\n",
        "\n",
        "def generator_loss(fake_output):\n",
        "    return cross_entropy(tf.ones_like(fake_output), fake_output)"
      ],
      "metadata": {
        "id": "TZZNJw1M0aBp"
      },
      "execution_count": null,
      "outputs": []
    },
    {
      "cell_type": "code",
      "source": [
        "\n",
        "# Step 5: Setup Models and Optimizers\n",
        "generator = make_generator_model()\n",
        "discriminator = make_discriminator_model()\n",
        "\n",
        "generator_optimizer = tf.keras.optimizers.Adam(1e-4)\n",
        "discriminator_optimizer = tf.keras.optimizers.Adam(1e-4)"
      ],
      "metadata": {
        "id": "ECHxH6MI0cdI"
      },
      "execution_count": null,
      "outputs": []
    },
    {
      "cell_type": "markdown",
      "source": [
        "Question: here what optimizers are we using?"
      ],
      "metadata": {
        "id": "wxo_piLX0hCW"
      }
    },
    {
      "cell_type": "code",
      "source": [
        "# Step 6: Training Loop\n",
        "@tf.function\n",
        "def train_step(images):\n",
        "    noise = tf.random.normal([batch_size, noise_dim])\n",
        "\n",
        "    with tf.GradientTape() as gen_tape, tf.GradientTape() as disc_tape:\n",
        "        generated_images = generator(noise, training=True)\n",
        "\n",
        "        real_output = discriminator(images, training=True)\n",
        "        fake_output = discriminator(generated_images, training=True)\n",
        "\n",
        "        gen_loss = generator_loss(fake_output)\n",
        "        disc_loss = discriminator_loss(real_output, fake_output)\n",
        "\n",
        "    gradients_of_generator = gen_tape.gradient(gen_loss, generator.trainable_variables)\n",
        "    gradients_of_discriminator = disc_tape.gradient(disc_loss, discriminator.trainable_variables)\n",
        "\n",
        "    generator_optimizer.apply_gradients(zip(gradients_of_generator, generator.trainable_variables))\n",
        "    discriminator_optimizer.apply_gradients(zip(gradients_of_discriminator, discriminator.trainable_variables))\n",
        "\n",
        "    return gen_loss, disc_loss"
      ],
      "metadata": {
        "id": "l_D_GHYT0vKv"
      },
      "execution_count": null,
      "outputs": []
    },
    {
      "cell_type": "code",
      "source": [
        "# Step 7: Generate and save images\n",
        "def generate_and_save_images(model, epoch, test_input, save_dir='generated_images'):\n",
        "    # Ensure save directory exists\n",
        "    if not os.path.exists(save_dir):\n",
        "        os.makedirs(save_dir)\n",
        "\n",
        "    # Generate images\n",
        "    predictions = model(test_input, training=False)\n",
        "\n",
        "    # Display 16 images\n",
        "    fig = plt.figure(figsize=(4, 4))\n",
        "    for i in range(16):\n",
        "        plt.subplot(4, 4, i + 1)\n",
        "        plt.imshow(predictions[i, :, :, 0] * 127.5 + 127.5, cmap='gray')\n",
        "        plt.axis('off')\n",
        "\n",
        "    # Save images\n",
        "    plt.savefig(f'{save_dir}/image_at_epoch_{epoch:04d}.png')\n",
        "    plt.show()"
      ],
      "metadata": {
        "id": "B0-5kLgh0xUS"
      },
      "execution_count": null,
      "outputs": []
    },
    {
      "cell_type": "code",
      "source": [
        "\n",
        "# Step 8: Training function\n",
        "def train(dataset, epochs):\n",
        "    for epoch in range(epochs):\n",
        "        start = time.time()\n",
        "\n",
        "        # Train on each batch\n",
        "        for image_batch in dataset:\n",
        "            gen_loss, disc_loss = train_step(image_batch)\n",
        "\n",
        "        # Generate and save images after each epoch\n",
        "        generate_and_save_images(generator, epoch + 1, seed)\n",
        "\n",
        "        # Print training information\n",
        "        print(f'Epoch {epoch + 1}, Time: {time.time() - start:.2f} sec, '\n",
        "              f'Gen Loss: {gen_loss:.4f}, Disc Loss: {disc_loss:.4f}')\n",
        "\n",
        "    # Generate final images\n",
        "    generate_and_save_images(generator, epochs, seed)"
      ],
      "metadata": {
        "id": "z3Utw6aY1Wr5"
      },
      "execution_count": null,
      "outputs": []
    },
    {
      "cell_type": "code",
      "source": [
        "\n",
        "# Step 9: Run training\n",
        "# Parameters\n",
        "noise_dim = 100\n",
        "batch_size = 256\n",
        "epochs = 10\n",
        "num_examples_to_generate = 16\n",
        "\n",
        "# Seed for consistent visualization\n",
        "seed = tf.random.normal([num_examples_to_generate, noise_dim])\n",
        "\n",
        "# Load data\n",
        "train_dataset = load_mnist_data()\n",
        "\n",
        "# Start training\n",
        "train(train_dataset, epochs)\n",
        "\n",
        "# Note: Generated images are saved in 'generated_images/' and displayed after each epoch."
      ],
      "metadata": {
        "id": "4OJoFz5J1cI4"
      },
      "execution_count": null,
      "outputs": []
    },
    {
      "cell_type": "markdown",
      "source": [
        "Now, you have finished! can you change the epochs to 50 then keep it running have a look at the time series lab?"
      ],
      "metadata": {
        "id": "r8Tg4eS61cxB"
      }
    },
    {
      "cell_type": "markdown",
      "source": [
        "now the 50 epochs have been finished, what are the difference here?"
      ],
      "metadata": {
        "id": "WlBv9bSj1qaL"
      }
    }
  ]
}
